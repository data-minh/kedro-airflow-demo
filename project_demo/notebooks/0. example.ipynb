{
 "cells": [
  {
   "cell_type": "code",
   "execution_count": 1,
   "metadata": {},
   "outputs": [],
   "source": [
    "import os\n",
    "import subprocess\n",
    "\n",
    "# Set HADOOP_CONF_DIR environment variable\n",
    "os.environ['HADOOP_CONF_DIR'] = '/usr/hdp/3.1.4.0-315/hadoop/etc/hadoop'\n",
    "\n",
    "# Set ARROW_LIBHDFS_DIR environment variable\n",
    "os.environ['ARROW_LIBHDFS_DIR'] = '/usr/hdp/3.1.4.0-315/hadoop/lib/native/'\n",
    "\n",
    "# Set CLASSPATH enviroment variable\n",
    "classpath = subprocess.check_output(['hadoop', 'classpath', '--glob'])\n",
    "os.environ['CLASSPATH'] = classpath.decode('utf-8')\n",
    "\n",
    "from pyspark.sql import SparkSession\n",
    "import pyspark.sql.functions as f\n",
    "from pyspark.sql.window import Window\n",
    "from pyspark.sql.types import *\n",
    "\n",
    "import numpy as np\n",
    "import pandas as pd"
   ]
  },
  {
   "cell_type": "code",
   "execution_count": 2,
   "metadata": {},
   "outputs": [
    {
     "name": "stderr",
     "output_type": "stream",
     "text": [
      "Setting default log level to \"WARN\".\n",
      "To adjust logging level use sc.setLogLevel(newLevel). For SparkR, use setLogLevel(newLevel).\n",
      "24/10/04 16:33:06 WARN util.NativeCodeLoader: Unable to load native-hadoop library for your platform... using builtin-java classes where applicable\n",
      "24/10/04 16:33:08 WARN shortcircuit.DomainSocketFactory: The short-circuit local reads feature cannot be used because libhadoop cannot be loaded.\n",
      "24/10/04 16:33:08 WARN yarn.Client: Neither spark.yarn.jars nor spark.yarn.archive is set, falling back to uploading libraries under SPARK_HOME.\n"
     ]
    }
   ],
   "source": [
    "spark = (\n",
    "    SparkSession.builder.appName(\"demo_project\")\n",
    "                    .config(\"spark.master\", \"yarn\")\n",
    "                    .config(\"spark.deploy.mode\", \"cluster\")\n",
    "                    .config(\"spark.driver.cores\", \"4\")\n",
    "                    .config(\"spark.driver.memory\", \"2g\")\n",
    "                    .config(\"spark.executor.cores\", \"4\")\n",
    "                    .config(\"spark.executor.memory\", \"8g\")\n",
    "                    .config(\"spark.executor.instances\", \"4\")\n",
    "                    .config(\"spark.executor.memoryOverhead\", \"2g\")\n",
    "                    .config(\"spark.sql.legacy.timeParserPolicy\", \"LEGACY\")\n",
    "                    .config(\"spark.sql.parquet.enableVectorizedReader\", \"false\")\n",
    "                    .config(\"spark.sql.parquet.int96RebaseModeInRead\", \"CORRECTED\")\n",
    "                    .config(\"spark.sql.parquet.int96RebaseModeInWrite\", \"CORRECTED\")\n",
    "                    .config(\"spark.sql.parquet.datetimeRebaseModeInRead\", \"CORRECTED\")\n",
    "                    .config(\"spark.sql.parquet.datetimeRebaseModeInWrite\", \"CORRECTED\")\n",
    "                    .getOrCreate()\n",
    ")"
   ]
  },
  {
   "cell_type": "markdown",
   "metadata": {},
   "source": [
    "## Read file from hadoop using pyspark\n"
   ]
  },
  {
   "cell_type": "code",
   "execution_count": 3,
   "metadata": {},
   "outputs": [
    {
     "name": "stderr",
     "output_type": "stream",
     "text": [
      "                                                                                \r"
     ]
    },
    {
     "name": "stdout",
     "output_type": "stream",
     "text": [
      "+------+-----------------------------------------+------------------------+----------+--------------------+--------------------+----------+----------+--------------------------------------------+--------+---------------+-----------------+--------------------------------------+----------------------------------------------------------+-------------------------------+----+---------------+------------------------------------------------------------------------------------------------------------------------------------------+--------+----------+------------------------------------+------------------------------------+\n",
      "|OV    |_class                                   |_id                     |appVersion|dReceivedTime       |dSentTime           |descDetail|devicetype|ipServer                                    |location|requestId      |sDevice          |sIPRequest                            |sImei                                                     |sMDesc                         |sMid|sMsgCode       |sMsgContent                                                                                                                               |sResCode|sUser     |sessionId                           |filled_revenue                      |\n",
      "+------+-----------------------------------------+------------------------+----------+--------------------+--------------------+----------+----------+--------------------------------------------+--------+---------------+-----------------+--------------------------------------+----------------------------------------------------------+-------------------------------+----+---------------+------------------------------------------------------------------------------------------------------------------------------------------+--------+----------+------------------------------------+------------------------------------+\n",
      "|17.3  |com.vnpay.omni.libinterface.bean.LogMongo|65c665124522951d3e8f59eb|5228      |2024-02-10T00:46:58Z|2024-02-10T00:46:58Z|          |IOS       |PREMB_10.53.93.134:9080, MB_10.53.93.67:8081|        |949223858902729|iPhone 11 Pro Max|1.52.219.86:64335|10.53.54.83_Prod    |1D6E5700-E233-4E21-A94D-F650920EDB8A1611215948            |Đăng nhập                      |1   |REGISTOR-55    |Thông tin đăng nhập không chính xác. Quý khách lưu ý: Dịch vụ SmartBanking sẽ bị khóa nếu Quý khách nhập sai mật khẩu 5 lần trở lên.      |55      |0012080229|eb3f598e-3cfd-4bd1-9ab2-5935e41d0dfe|eb3f598e-3cfd-4bd1-9ab2-5935e41d0dfe|\n",
      "|33    |com.vnpay.omni.libinterface.bean.LogMongo|65d458d16efad70bbef96014|5.2.32    |2024-02-20T14:46:25Z|2024-02-20T14:46:25Z|          |ANDROID   |PREMB_10.53.93.60:9080, MB_10.53.93.66:8081 |        |618544359175750|CPH2565          |171.242.204.250:11418|10.53.54.89_Prod|###fd807a4115159d04###00000000-7743-8272-ffff-ffffef05ac4a|Đăng nhập                      |1   |REGISTOR-55    |Thông tin đăng nhập không chính xác. Quý khách lưu ý: Dịch vụ SmartBanking sẽ bị khóa nếu Quý khách nhập sai mật khẩu 5 lần trở lên.      |55      |0038487639|e3deadd8-c7e1-4e1c-ae08-19751f130d34|e3deadd8-c7e1-4e1c-ae08-19751f130d34|\n",
      "|33    |com.vnpay.omni.libinterface.bean.LogMongo|65bce3f2a66f5b7512d00c37|5.2.29    |2024-02-02T19:45:38Z|2024-02-02T19:45:38Z|          |ANDROID   |PREMB_10.53.93.54:9080, MB_10.53.93.76:8083 |        |665159998807865|SM-S711B         |27.67.142.244:64387|10.53.54.91_Prod  |###43c10cddac47ac04###00000000-65fa-dab4-ffff-ffffef05ac4a|Khởi tạo Đăng ký online qua BCH|440 |REGISVIAQUES_05|Quý khách chưa đăng ký thông tin tại BIDV. Quý khách vui lòng sử dụng chức năng Đăng ký Online dành khách hàng chưa có thông tin tại BIDV.|05      |0166332819|null                                |null                                |\n",
      "|33    |com.vnpay.omni.libinterface.bean.LogMongo|65bce3f6a66f5b7512d00dab|5.2.29    |2024-02-02T19:45:42Z|2024-02-02T19:45:42Z|          |ANDROID   |PREMB_10.53.93.54:9080, MB_10.53.93.76:8083 |        |332892712090366|SM-S711B         |27.67.142.244:45064|10.53.54.82_Prod  |###43c10cddac47ac04###00000000-65fa-dab4-ffff-ffffef05ac4a|Khởi tạo Đăng ký online qua BCH|440 |REGISVIAQUES_05|Quý khách chưa đăng ký thông tin tại BIDV. Quý khách vui lòng sử dụng chức năng Đăng ký Online dành khách hàng chưa có thông tin tại BIDV.|05      |0166332819|null                                |null                                |\n",
      "|16.3.1|com.vnpay.omni.libinterface.bean.LogMongo|65d3195df41fee206a26190f|5228      |2024-02-19T16:03:25Z|2024-02-19T16:03:25Z|          |IOS       |PREMB_10.53.93.54:9080, MB_10.53.93.135:8081|        |744433122034775|iPhone 8 Plus    |14.171.114.23:56148|10.53.54.81_Prod  |7B23F548-ED24-46C3-9344-15257A516055                      |Khởi tạo quên mật khẩu         |21  |FORGOT-PASS-02 |Thông tin xác thực không hợp lệ. Quý khách vui lòng kiểm tra lại.                                                                         |02      |0169820406|null                                |null                                |\n",
      "+------+-----------------------------------------+------------------------+----------+--------------------+--------------------+----------+----------+--------------------------------------------+--------+---------------+-----------------+--------------------------------------+----------------------------------------------------------+-------------------------------+----+---------------+------------------------------------------------------------------------------------------------------------------------------------------+--------+----------+------------------------------------+------------------------------------+\n",
      "only showing top 5 rows\n",
      "\n"
     ]
    }
   ],
   "source": [
    "df = spark.read.parquet(\"/data/curated/logsmb/logsmb/202402/*\")\n",
    "df.show(5, truncate=False)"
   ]
  },
  {
   "cell_type": "markdown",
   "metadata": {},
   "source": [
    "## Read file from hadoop using pandas\n"
   ]
  },
  {
   "cell_type": "markdown",
   "metadata": {},
   "source": [
    "#### Note: Pandas chỉ có thể đọc được một số file nhỏ, đọc các file quá lớn dẫn đến việc tràn ram như ví dụ dưới\n"
   ]
  },
  {
   "cell_type": "code",
   "execution_count": 6,
   "metadata": {},
   "outputs": [
    {
     "ename": "",
     "evalue": "",
     "output_type": "error",
     "traceback": [
      "\u001b[1;31mThe Kernel crashed while executing code in the current cell or a previous cell. \n",
      "\u001b[1;31mPlease review the code in the cell(s) to identify a possible cause of the failure. \n",
      "\u001b[1;31mClick <a href='https://aka.ms/vscodeJupyterKernelCrash'>here</a> for more info. \n",
      "\u001b[1;31mView Jupyter <a href='command:jupyter.viewOutput'>log</a> for further details."
     ]
    },
    {
     "ename": "",
     "evalue": "",
     "output_type": "error",
     "traceback": [
      "\u001b[1;31mCanceled future for execute_request message before replies were done"
     ]
    },
    {
     "ename": "",
     "evalue": "",
     "output_type": "error",
     "traceback": [
      "\u001b[1;31mCanceled future for execute_request message before replies were done. \n",
      "\u001b[1;31mView Jupyter <a href='command:jupyter.viewOutput'>log</a> for further details."
     ]
    }
   ],
   "source": [
    "df = pd.read_parquet(\"hdfs://hadoop-ttqtdl:8020/data/curated/logsmb/logsmb/202402/\", engine= \"pyarrow\")\n",
    "df.head()"
   ]
  }
 ],
 "metadata": {
  "kernelspec": {
   "display_name": "Python 3",
   "language": "python",
   "name": "python3"
  },
  "language_info": {
   "codemirror_mode": {
    "name": "ipython",
    "version": 3
   },
   "file_extension": ".py",
   "mimetype": "text/x-python",
   "name": "python",
   "nbconvert_exporter": "python",
   "pygments_lexer": "ipython3",
   "version": "3.9.16"
  }
 },
 "nbformat": 4,
 "nbformat_minor": 2
}
